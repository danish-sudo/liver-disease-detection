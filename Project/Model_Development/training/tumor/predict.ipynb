{
 "cells": [
  {
   "cell_type": "code",
   "execution_count": 1,
   "metadata": {},
   "outputs": [],
   "source": [
    "from tensorflow import keras\n",
    "import os\n",
    "import numpy as np  \n",
    "import matplotlib.pyplot as plt\n",
    "from Model_Development.training import resUnet, datagen\n",
    "import seaborn as sns"
   ]
  },
  {
   "cell_type": "code",
   "execution_count": 2,
   "metadata": {
    "pycharm": {
     "name": "#%%\n"
    }
   },
   "outputs": [
    {
     "name": "stdout",
     "output_type": "stream",
     "text": [
      "Total CT scans :23271\n",
      "Training Dataset:18617\n",
      "Validation Dataset:4654\n"
     ]
    }
   ],
   "source": [
    "train_set, validation_set = datagen.split_data()\n",
    "dataset_path = \"../../processed_data\"\n",
    "image_size = 256\n",
    "image_dataype = float\n",
    "batch_size =8\n",
    "print('Training Dataset:' + str(len(train_set)))\n",
    "print('Validation Dataset:' + str(len(validation_set)))"
   ]
  },
  {
   "cell_type": "code",
   "execution_count": 3,
   "metadata": {
    "pycharm": {
     "name": "#%%\n"
    }
   },
   "outputs": [],
   "source": [
    "model = resUnet.resUnet()\n",
    "adam = keras.optimizers.Adam()\n",
    "model.compile(optimizer=adam, loss=resUnet.dice_coef_loss, metrics=[\"acc\", resUnet.dice_coef])\n",
    "# model.summary()"
   ]
  },
  {
   "cell_type": "code",
   "execution_count": 4,
   "metadata": {
    "pycharm": {
     "name": "#%%\n"
    }
   },
   "outputs": [],
   "source": [
    "model.load_weights(os.path.join('../../models','tumor_weights_final_100epochs.h5'))\n",
    "valid_datagen = datagen.DataGen(validation_set, dataset_path, scan_size=image_size, batch_size=batch_size)"
   ]
  },
  {
   "cell_type": "code",
   "execution_count": 5,
   "metadata": {
    "pycharm": {
     "name": "#%%\n"
    }
   },
   "outputs": [
    {
     "name": "stderr",
     "output_type": "stream",
     "text": [
      "Clipping input data to the valid range for imshow with RGB data ([0..1] for floats or [0..255] for integers).\n"
     ]
    },
    {
     "name": "stdout",
     "output_type": "stream",
     "text": [
      "(8, 256, 256, 3) (8, 256, 256, 1)\n"
     ]
    },
    {
     "data": {
      "text/plain": "<Figure size 432x288 with 1 Axes>",
      "image/png": "[encoded data removed]"
     },
     "metadata": {
      "needs_background": "light"
     },
     "output_type": "display_data"
    },
    {
     "data": {
      "text/plain": "<matplotlib.image.AxesImage at 0x7f7a28094fa0>"
     },
     "execution_count": 5,
     "metadata": {},
     "output_type": "execute_result"
    },
    {
     "data": {
      "text/plain": "<Figure size 432x288 with 2 Axes>",
      "image/png": "[encoded data removed]"
     },
     "metadata": {
      "needs_background": "light"
     },
     "output_type": "display_data"
    }
   ],
   "source": [
    "x, y = valid_datagen.__getitem__(55)\n",
    "predict = model.predict(x)\n",
    "\n",
    "print(x.shape, predict.shape)\n",
    "\n",
    "datagen.display_scan(x[1])\n",
    "\n",
    "\n",
    "fig = plt.figure()\n",
    "fig.subplots_adjust(hspace=0.4, wspace=0.4)\n",
    "\n",
    "ax = fig.add_subplot(1, 2, 1)\n",
    "ax.imshow(np.reshape(y[1]*255, (image_size, image_size)), cmap=\"gray\")\n",
    "\n",
    "ax = fig.add_subplot(1, 2, 2)\n",
    "ax.imshow(np.reshape(predict[1]*255, (image_size, image_size)), cmap=\"gray\")\n",
    "\n"
   ]
  },
  {
   "cell_type": "code",
   "execution_count": 6,
   "metadata": {},
   "outputs": [],
   "source": [
    "\n",
    "# from numpy import genfromtxt\n",
    "# from skimage.transform import resize\n",
    "# liver_mask = genfromtxt('data.csv', delimiter=',')\n",
    "\n",
    "# import cv2\n",
    "\n",
    "# img = []\n",
    "\n",
    "# image_path = '/home/danish/Desktop/1.1_image_354_augrot'\n",
    "\n",
    "\n",
    "# print(liver_mask.shape)\n",
    "# plt.imshow(liver_mask)\n",
    "\n",
    "# dicom_image = pydicom.dcmread(image_path)\n",
    "# image_datatype = float\n",
    "# image = datagen.preprocess_scans(dicom_image.pixel_array)\n",
    "\n",
    "# image = resize(image, [256 ,256])\n",
    "\n",
    "# image = np.multiply(image, np.clip(liver_mask, 0, 1))\n",
    "\n",
    "# plt.imshow(image,cmap='gray')\n",
    "# image = np.array(Image.fromarray(image).resize([image_size, image_size])).astype(image_datatype)\n",
    "\n",
    "# image = np.stack((image,) * 3, axis=-1)\n",
    "# img.append(image)\n",
    "# image = np.array(img)\n",
    "\n",
    "# print(image.shape)\n",
    "\n",
    "# weights = model.get_weights()\n",
    "# new_model = resUnet.resUnet()\n",
    "# adam = keras.optimizers.Adam()\n",
    "# new_model.compile(optimizer=adam, loss=resUnet.dice_coef_loss, metrics=[\"acc\", resUnet.dice_coef])\n",
    "\n",
    "# new_model.set_weights(weights)\n",
    "# # batch_size=1\n",
    "# # valid_datagen = datagen.DataGen(validation_set, dataset_path, scan_size=image_size, batch_size=batch_size)\n",
    "\n",
    "# pred = new_model.predict(image)\n",
    "\n",
    "# print(pred.shape)\n",
    "# fig = plt.figure()\n",
    "# fig.subplots_adjust(hspace=0.4, wspace=0.4)\n",
    "\n",
    "\n",
    "# ax = fig.add_subplot(1, 2, 2)\n",
    "# ax.imshow(np.reshape(pred*255, (256, 256)), cmap=\"gray\")\n"
   ]
  },
  {
   "cell_type": "code",
   "execution_count": 11,
   "metadata": {},
   "outputs": [
    {
     "name": "stdout",
     "output_type": "stream",
     "text": [
      "(8, 256, 256, 1) (8, 256, 256, 1)\n"
     ]
    }
   ],
   "source": [
    "from sklearn.metrics import confusion_matrix\n",
    "y = []\n",
    "result = []\n",
    "## Dataset for testing\n",
    "for i in range(10, 15, 1):\n",
    "    x, y = valid_datagen.__getitem__(i)\n",
    "    result = model.predict(x)\n",
    "    result = result > 0.4\n",
    "    # for j in range(len(result)):\n",
    "    #     fig = plt.figure(figsize=(20,20))\n",
    "    #     fig.subplots_adjust(hspace=0.4, wspace=0.4)\n",
    "    #\n",
    "    #     ax = fig.add_subplot(1, 2, 1)\n",
    "    #     ax.imshow(np.reshape(y[j]*255, (image_size, image_size)), cmap=\"gray\")\n",
    "    #     ax = fig.add_subplot(1, 2, 2)\n",
    "    #     ax.imshow(np.reshape(result[j]*255, (image_size, image_size)), cmap=\"gray\")\n",
    "\n",
    "print(y.shape, result.shape)\n",
    "\n",
    "cm_2d =confusion_matrix(y.flatten(),result.flatten())"
   ]
  },
  {
   "cell_type": "code",
   "execution_count": 12,
   "outputs": [
    {
     "name": "stdout",
     "output_type": "stream",
     "text": [
      "Pixel Accuracy 99.77226257324219%\n",
      "True Positive Accuracy 84.81123792800702%\n"
     ]
    }
   ],
   "source": [
    "cm = cm_2d.ravel()\n",
    "\n",
    "print(\"Pixel Accuracy \" + str(((cm[3]+cm[0])/(cm[3]+cm[0]+cm[1]+cm[2])*100))+'%' )\n",
    "print(\"True Positive Accuracy \" + str(((cm[3])/(cm[3]+cm[2])*100))+'%' )"
   ],
   "metadata": {
    "collapsed": false,
    "pycharm": {
     "name": "#%%\n"
    }
   }
  },
  {
   "cell_type": "code",
   "execution_count": 14,
   "metadata": {},
   "outputs": [
    {
     "name": "stdout",
     "output_type": "stream",
     "text": [
      "Dice Coefficient 0.763938315539739\n"
     ]
    }
   ],
   "source": [
    "def dice(im1, im2):\n",
    "\n",
    "    im1 = np.asarray(im1).astype(bool)\n",
    "    im2 = np.asarray(im2).astype(bool)\n",
    "\n",
    "    if im1.shape != im2.shape:\n",
    "        raise ValueError(\"Shape mismatch: im1 and im2 must have the same shape.\")\n",
    "\n",
    "    intersection = np.logical_and(im1, im2)\n",
    "\n",
    "    return 2. * intersection.sum() / (im1.sum() + im2.sum())\n",
    "\n",
    "\n",
    "print(\"Dice Coefficient \" + str(dice(y,result)))"
   ]
  },
  {
   "cell_type": "code",
   "execution_count": 15,
   "metadata": {},
   "outputs": [
    {
     "data": {
      "text/plain": "<Figure size 432x288 with 2 Axes>",
      "image/png": "[encoded data removed]"
     },
     "metadata": {
      "needs_background": "light"
     },
     "output_type": "display_data"
    }
   ],
   "source": [
    "ax= plt.subplot()\n",
    "cm_2d = cm_2d.astype('float') / cm_2d.sum(axis=1)[:, np.newaxis]\n",
    "sns.heatmap(cm_2d, annot=True, ax = ax)\n",
    "#annot=True to annotate cells\n",
    "\n",
    "# labels, title and ticks\n",
    "ax.set_xlabel('Predicted labels');ax.set_ylabel('True labels')\n",
    "ax.set_title('Confusion Matrix')\n",
    "\n",
    "ax.xaxis.set_ticklabels(['No Tumor', 'Tumor']); ax.yaxis.set_ticklabels(['No Tumor', 'Tumor']);"
   ]
  }
 ],
 "metadata": {
  "kernelspec": {
   "display_name": "Python 3",
   "language": "python",
   "name": "python3"
  },
  "language_info": {
   "codemirror_mode": {
    "name": "ipython",
    "version": 3
   },
   "file_extension": ".py",
   "mimetype": "text/x-python",
   "name": "python",
   "nbconvert_exporter": "python",
   "pygments_lexer": "ipython3",
   "version": "3.9.4"
  },
  "metadata": {
   "interpreter": {
    "hash": "31f2aee4e71d21fbe5cf8b01ff0e069b9275f58929596ceb00d14d90e3e16cd6"
   }
  }
 },
 "nbformat": 4,
 "nbformat_minor": 1
}